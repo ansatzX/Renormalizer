{
 "cells": [
  {
   "cell_type": "markdown",
   "metadata": {},
   "source": [
    "# Ground state of the Heisenberg model"
   ]
  },
  {
   "cell_type": "markdown",
   "metadata": {},
   "source": [
    "## Overview"
   ]
  },
  {
   "cell_type": "markdown",
   "metadata": {},
   "source": [
    "This notebook will give an example how to use Renormalizer to calculate the ground state energy of the open boundary spin 1/2 1-D Heisenberg model.\n",
    "\n",
    "$$\n",
    "H = J \\sum_i [S_i^z S_{i+1}^z + \\frac{1}{2}(S_i^+ S_{i+1}^- + S_i^- S_{i+1}^+)]\n",
    "$$\n",
    "\n",
    "Exact result via Bethe Anstatz:\n",
    "\n",
    "|$L$ |      $E/J$|\n",
    "|----|-----------|\n",
    "|16  |-6.9117371455749|\n",
    "|24  |-10.4537857604096|\n",
    "|32  |-13.9973156182243|\n",
    "|48  |-21.0859563143863|\n",
    "|64  |-28.1754248597421|\n"
   ]
  },
  {
   "cell_type": "markdown",
   "metadata": {},
   "source": [
    "## Setup"
   ]
  },
  {
   "cell_type": "code",
   "execution_count": 1,
   "metadata": {
    "execution": {
     "iopub.execute_input": "2024-07-11T09:41:04.317396Z",
     "iopub.status.busy": "2024-07-11T09:41:04.317203Z",
     "iopub.status.idle": "2024-07-11T09:41:05.258967Z",
     "shell.execute_reply": "2024-07-11T09:41:05.258211Z"
    }
   },
   "outputs": [
    {
     "name": "stderr",
     "output_type": "stream",
     "text": [
      "2024-07-11 09:41:05,154[INFO] Use NumPy as backend\n"
     ]
    },
    {
     "name": "stderr",
     "output_type": "stream",
     "text": [
      "2024-07-11 09:41:05,155[INFO] numpy random seed is 9012\n"
     ]
    },
    {
     "name": "stderr",
     "output_type": "stream",
     "text": [
      "2024-07-11 09:41:05,155[INFO] random seed is 1092\n"
     ]
    },
    {
     "name": "stderr",
     "output_type": "stream",
     "text": [
      "2024-07-11 09:41:05,167[INFO] Git Commit Hash: ec0e361eea3b2b684c0ec4c885c71df138ff1d5d\n"
     ]
    },
    {
     "name": "stderr",
     "output_type": "stream",
     "text": [
      "2024-07-11 09:41:05,168[INFO] use 64 bits\n"
     ]
    }
   ],
   "source": [
    "from renormalizer import Model, Op, BasisHalfSpin,  Mps, Mpo, optimize_mps"
   ]
  },
  {
   "cell_type": "markdown",
   "metadata": {},
   "source": [
    "## Define the Model\n",
    "In Renormalizer, models are defined by the Hamiltonian terms and the a list of basis sets. The basis also defines the ordering in DMRG.\n",
    "\n",
    "The spin operators can be represented by Pauli operators\n",
    "$$\n",
    "S^+ = \\sigma^+ \n",
    "$$\n",
    "$$\n",
    "S^- = \\sigma^- \n",
    "$$\n",
    "$$\n",
    "S^{\\{x,y,z\\}} = \\frac{1}{2} \\sigma^{\\{x,y,z\\}}\n",
    "$$"
   ]
  },
  {
   "cell_type": "code",
   "execution_count": 2,
   "metadata": {
    "execution": {
     "iopub.execute_input": "2024-07-11T09:41:05.262318Z",
     "iopub.status.busy": "2024-07-11T09:41:05.261922Z",
     "iopub.status.idle": "2024-07-11T09:41:05.322706Z",
     "shell.execute_reply": "2024-07-11T09:41:05.322086Z"
    }
   },
   "outputs": [
    {
     "name": "stderr",
     "output_type": "stream",
     "text": [
      "2024-07-11 09:41:05,269[DEBUG] # of operator terms: 93\n"
     ]
    },
    {
     "name": "stderr",
     "output_type": "stream",
     "text": [
      "2024-07-11 09:41:05,270[DEBUG] symbolic mpo algorithm: qr\n"
     ]
    },
    {
     "name": "stderr",
     "output_type": "stream",
     "text": [
      "2024-07-11 09:41:05,270[DEBUG] Input operator terms: 93\n"
     ]
    },
    {
     "name": "stderr",
     "output_type": "stream",
     "text": [
      "2024-07-11 09:41:05,295[DEBUG] After combination of the same terms: 93\n"
     ]
    },
    {
     "name": "stdout",
     "output_type": "stream",
     "text": [
      "mpo_bond_dims:[1, 4, 5, 5, 5, 5, 5, 5, 5, 5, 5, 5, 5, 5, 5, 5, 5, 5, 5, 5, 5, 5, 5, 5, 5, 5, 5, 5, 5, 5, 5, 4, 1]\n"
     ]
    }
   ],
   "source": [
    "# define the # of spins\n",
    "nspin = 32\n",
    "\n",
    "# define the model\n",
    "\n",
    "ham_terms = []\n",
    "for ispin in range(nspin-1):\n",
    "    op1 = Op(\"sigma_z sigma_z\", [ispin, ispin+1], 1.0/4)\n",
    "    op2 = Op(\"sigma_+ sigma_-\", [ispin, ispin+1], 1.0/2)\n",
    "    op3 = Op(\"sigma_- sigma_+\", [ispin, ispin+1], 1.0/2)\n",
    "    ham_terms.extend([op1, op2, op3])\n",
    "\n",
    "# set the spin order and local basis\n",
    "basis = [BasisHalfSpin(i) for i in range(nspin)]\n",
    "# construct Hamiltonian MPO\n",
    "model = Model(basis, ham_terms)\n",
    "mpo = Mpo(model)\n",
    "print(f\"mpo_bond_dims:{mpo.bond_dims}\")"
   ]
  },
  {
   "cell_type": "markdown",
   "metadata": {},
   "source": [
    "## DMRG Sweeps"
   ]
  },
  {
   "cell_type": "code",
   "execution_count": 3,
   "metadata": {
    "execution": {
     "iopub.execute_input": "2024-07-11T09:41:05.325440Z",
     "iopub.status.busy": "2024-07-11T09:41:05.325047Z",
     "iopub.status.idle": "2024-07-11T09:41:10.774953Z",
     "shell.execute_reply": "2024-07-11T09:41:10.774308Z"
    }
   },
   "outputs": [
    {
     "name": "stderr",
     "output_type": "stream",
     "text": [
      "2024-07-11 09:41:05,365[INFO] optimization method: 2site\n"
     ]
    },
    {
     "name": "stderr",
     "output_type": "stream",
     "text": [
      "2024-07-11 09:41:05,367[INFO] e_rtol: 1e-06\n"
     ]
    },
    {
     "name": "stderr",
     "output_type": "stream",
     "text": [
      "2024-07-11 09:41:05,369[INFO] e_atol: 1e-08\n"
     ]
    },
    {
     "name": "stderr",
     "output_type": "stream",
     "text": [
      "2024-07-11 09:41:05,371[INFO] procedure: [[30, 0.2], [30, 0], [30, 0], [30, 0], [30, 0]]\n"
     ]
    },
    {
     "name": "stderr",
     "output_type": "stream",
     "text": [
      "2024-07-11 09:41:05,402[DEBUG] isweep: 0\n"
     ]
    },
    {
     "name": "stderr",
     "output_type": "stream",
     "text": [
      "2024-07-11 09:41:05,404[DEBUG] compress config in current loop: 30, percent: 0.2\n"
     ]
    },
    {
     "name": "stderr",
     "output_type": "stream",
     "text": [
      "2024-07-11 09:41:05,406[DEBUG] mps current size: 329.7KiB, Matrix product bond dim:[1, 2, 4, 8, 16, 30, 30, 30, 30, 30, 30, 30, 30, 30, 30, 30, 30, 30, 30, 30, 30, 30, 30, 30, 30, 30, 30, 30, 16, 8, 4, 2, 1]\n"
     ]
    },
    {
     "name": "stderr",
     "output_type": "stream",
     "text": [
      "2024-07-11 09:41:05,407[DEBUG] optimize site: [0, 1]\n"
     ]
    },
    {
     "name": "stderr",
     "output_type": "stream",
     "text": [
      "2024-07-11 09:41:05,409[DEBUG] use direct eigensolver\n"
     ]
    },
    {
     "name": "stderr",
     "output_type": "stream",
     "text": [
      "2024-07-11 09:41:05,412[DEBUG] energy: -0.9279990226898333\n"
     ]
    },
    {
     "name": "stderr",
     "output_type": "stream",
     "text": [
      "2024-07-11 09:41:05,415[DEBUG] optimize site: [1, 2]\n"
     ]
    },
    {
     "name": "stderr",
     "output_type": "stream",
     "text": [
      "2024-07-11 09:41:05,417[DEBUG] use direct eigensolver\n"
     ]
    },
    {
     "name": "stderr",
     "output_type": "stream",
     "text": [
      "2024-07-11 09:41:05,424[DEBUG] energy: -1.2840895734105335\n"
     ]
    },
    {
     "name": "stderr",
     "output_type": "stream",
     "text": [
      "2024-07-11 09:41:05,426[DEBUG] optimize site: [2, 3]\n"
     ]
    },
    {
     "name": "stderr",
     "output_type": "stream",
     "text": [
      "2024-07-11 09:41:05,429[DEBUG] use direct eigensolver\n"
     ]
    },
    {
     "name": "stderr",
     "output_type": "stream",
     "text": [
      "2024-07-11 09:41:05,442[DEBUG] energy: -2.085745264749921\n"
     ]
    },
    {
     "name": "stderr",
     "output_type": "stream",
     "text": [
      "2024-07-11 09:41:05,445[DEBUG] optimize site: [3, 4]\n"
     ]
    },
    {
     "name": "stderr",
     "output_type": "stream",
     "text": [
      "2024-07-11 09:41:05,447[DEBUG] use direct eigensolver\n"
     ]
    },
    {
     "name": "stderr",
     "output_type": "stream",
     "text": [
      "2024-07-11 09:41:05,688[DEBUG] energy: -2.8158895272374123\n"
     ]
    },
    {
     "name": "stderr",
     "output_type": "stream",
     "text": [
      "2024-07-11 09:41:05,692[DEBUG] optimize site: [4, 5]\n"
     ]
    },
    {
     "name": "stderr",
     "output_type": "stream",
     "text": [
      "2024-07-11 09:41:05,731[DEBUG] use davidson, HC hops: 34\n"
     ]
    },
    {
     "name": "stderr",
     "output_type": "stream",
     "text": [
      "2024-07-11 09:41:05,733[DEBUG] energy: -3.2933673155858036\n"
     ]
    },
    {
     "name": "stderr",
     "output_type": "stream",
     "text": [
      "2024-07-11 09:41:05,736[DEBUG] optimize site: [5, 6]\n"
     ]
    },
    {
     "name": "stderr",
     "output_type": "stream",
     "text": [
      "2024-07-11 09:41:05,812[DEBUG] use davidson, HC hops: 42\n"
     ]
    },
    {
     "name": "stderr",
     "output_type": "stream",
     "text": [
      "2024-07-11 09:41:05,815[DEBUG] energy: -3.744986750307202\n"
     ]
    },
    {
     "name": "stderr",
     "output_type": "stream",
     "text": [
      "2024-07-11 09:41:05,825[DEBUG] optimize site: [6, 7]\n"
     ]
    },
    {
     "name": "stderr",
     "output_type": "stream",
     "text": [
      "2024-07-11 09:41:05,873[DEBUG] use davidson, HC hops: 42\n"
     ]
    },
    {
     "name": "stderr",
     "output_type": "stream",
     "text": [
      "2024-07-11 09:41:05,875[DEBUG] energy: -4.176385575496492\n"
     ]
    },
    {
     "name": "stderr",
     "output_type": "stream",
     "text": [
      "2024-07-11 09:41:05,878[DEBUG] optimize site: [7, 8]\n"
     ]
    },
    {
     "name": "stderr",
     "output_type": "stream",
     "text": [
      "2024-07-11 09:41:05,951[DEBUG] use davidson, HC hops: 44\n"
     ]
    },
    {
     "name": "stderr",
     "output_type": "stream",
     "text": [
      "2024-07-11 09:41:05,953[DEBUG] energy: -4.583593477927389\n"
     ]
    },
    {
     "name": "stderr",
     "output_type": "stream",
     "text": [
      "2024-07-11 09:41:05,958[DEBUG] optimize site: [8, 9]\n"
     ]
    },
    {
     "name": "stderr",
     "output_type": "stream",
     "text": [
      "2024-07-11 09:41:06,054[DEBUG] use davidson, HC hops: 55\n"
     ]
    },
    {
     "name": "stderr",
     "output_type": "stream",
     "text": [
      "2024-07-11 09:41:06,055[DEBUG] energy: -4.968031845671205\n"
     ]
    },
    {
     "name": "stderr",
     "output_type": "stream",
     "text": [
      "2024-07-11 09:41:06,058[DEBUG] optimize site: [9, 10]\n"
     ]
    },
    {
     "name": "stderr",
     "output_type": "stream",
     "text": [
      "2024-07-11 09:41:06,175[DEBUG] use davidson, HC hops: 68\n"
     ]
    },
    {
     "name": "stderr",
     "output_type": "stream",
     "text": [
      "2024-07-11 09:41:06,177[DEBUG] energy: -5.414706360833996\n"
     ]
    },
    {
     "name": "stderr",
     "output_type": "stream",
     "text": [
      "2024-07-11 09:41:06,181[DEBUG] optimize site: [10, 11]\n"
     ]
    },
    {
     "name": "stderr",
     "output_type": "stream",
     "text": [
      "2024-07-11 09:41:06,283[DEBUG] use davidson, HC hops: 72\n"
     ]
    },
    {
     "name": "stderr",
     "output_type": "stream",
     "text": [
      "2024-07-11 09:41:06,285[DEBUG] energy: -5.85652975452048\n"
     ]
    },
    {
     "name": "stderr",
     "output_type": "stream",
     "text": [
      "2024-07-11 09:41:06,288[DEBUG] optimize site: [11, 12]\n"
     ]
    },
    {
     "name": "stderr",
     "output_type": "stream",
     "text": [
      "2024-07-11 09:41:06,407[DEBUG] use davidson, HC hops: 100\n"
     ]
    },
    {
     "name": "stderr",
     "output_type": "stream",
     "text": [
      "2024-07-11 09:41:06,409[DEBUG] energy: -6.279022467295811\n"
     ]
    },
    {
     "name": "stderr",
     "output_type": "stream",
     "text": [
      "2024-07-11 09:41:06,413[DEBUG] optimize site: [12, 13]\n"
     ]
    },
    {
     "name": "stderr",
     "output_type": "stream",
     "text": [
      "2024-07-11 09:41:06,499[DEBUG] use davidson, HC hops: 52\n"
     ]
    },
    {
     "name": "stderr",
     "output_type": "stream",
     "text": [
      "2024-07-11 09:41:06,501[DEBUG] energy: -6.857389012204752\n"
     ]
    },
    {
     "name": "stderr",
     "output_type": "stream",
     "text": [
      "2024-07-11 09:41:06,504[DEBUG] optimize site: [13, 14]\n"
     ]
    },
    {
     "name": "stderr",
     "output_type": "stream",
     "text": [
      "2024-07-11 09:41:06,604[DEBUG] use davidson, HC hops: 100\n"
     ]
    },
    {
     "name": "stderr",
     "output_type": "stream",
     "text": [
      "2024-07-11 09:41:06,606[DEBUG] energy: -7.114588022005769\n"
     ]
    },
    {
     "name": "stderr",
     "output_type": "stream",
     "text": [
      "2024-07-11 09:41:06,610[DEBUG] optimize site: [14, 15]\n"
     ]
    },
    {
     "name": "stderr",
     "output_type": "stream",
     "text": [
      "2024-07-11 09:41:06,661[DEBUG] use davidson, HC hops: 47\n"
     ]
    },
    {
     "name": "stderr",
     "output_type": "stream",
     "text": [
      "2024-07-11 09:41:06,663[DEBUG] energy: -7.641631783835401\n"
     ]
    },
    {
     "name": "stderr",
     "output_type": "stream",
     "text": [
      "2024-07-11 09:41:06,668[DEBUG] optimize site: [15, 16]\n"
     ]
    },
    {
     "name": "stderr",
     "output_type": "stream",
     "text": [
      "2024-07-11 09:41:06,760[DEBUG] use davidson, HC hops: 51\n"
     ]
    },
    {
     "name": "stderr",
     "output_type": "stream",
     "text": [
      "2024-07-11 09:41:06,762[DEBUG] energy: -8.118395338420033\n"
     ]
    },
    {
     "name": "stderr",
     "output_type": "stream",
     "text": [
      "2024-07-11 09:41:06,767[DEBUG] optimize site: [16, 17]\n"
     ]
    },
    {
     "name": "stderr",
     "output_type": "stream",
     "text": [
      "2024-07-11 09:41:06,829[DEBUG] use davidson, HC hops: 57\n"
     ]
    },
    {
     "name": "stderr",
     "output_type": "stream",
     "text": [
      "2024-07-11 09:41:06,831[DEBUG] energy: -8.579533430762849\n"
     ]
    },
    {
     "name": "stderr",
     "output_type": "stream",
     "text": [
      "2024-07-11 09:41:06,835[DEBUG] optimize site: [17, 18]\n"
     ]
    },
    {
     "name": "stderr",
     "output_type": "stream",
     "text": [
      "2024-07-11 09:41:06,908[DEBUG] use davidson, HC hops: 66\n"
     ]
    },
    {
     "name": "stderr",
     "output_type": "stream",
     "text": [
      "2024-07-11 09:41:06,911[DEBUG] energy: -8.983113190158459\n"
     ]
    },
    {
     "name": "stderr",
     "output_type": "stream",
     "text": [
      "2024-07-11 09:41:06,915[DEBUG] optimize site: [18, 19]\n"
     ]
    },
    {
     "name": "stderr",
     "output_type": "stream",
     "text": [
      "2024-07-11 09:41:07,023[DEBUG] use davidson, HC hops: 62\n"
     ]
    },
    {
     "name": "stderr",
     "output_type": "stream",
     "text": [
      "2024-07-11 09:41:07,024[DEBUG] energy: -9.422205404607666\n"
     ]
    },
    {
     "name": "stderr",
     "output_type": "stream",
     "text": [
      "2024-07-11 09:41:07,028[DEBUG] optimize site: [19, 20]\n"
     ]
    },
    {
     "name": "stderr",
     "output_type": "stream",
     "text": [
      "2024-07-11 09:41:07,136[DEBUG] use davidson, HC hops: 62\n"
     ]
    },
    {
     "name": "stderr",
     "output_type": "stream",
     "text": [
      "2024-07-11 09:41:07,136[DEBUG] energy: -9.903693680914394\n"
     ]
    },
    {
     "name": "stderr",
     "output_type": "stream",
     "text": [
      "2024-07-11 09:41:07,140[DEBUG] optimize site: [20, 21]\n"
     ]
    },
    {
     "name": "stderr",
     "output_type": "stream",
     "text": [
      "2024-07-11 09:41:07,236[DEBUG] use davidson, HC hops: 81\n"
     ]
    },
    {
     "name": "stderr",
     "output_type": "stream",
     "text": [
      "2024-07-11 09:41:07,238[DEBUG] energy: -10.398530611697971\n"
     ]
    },
    {
     "name": "stderr",
     "output_type": "stream",
     "text": [
      "2024-07-11 09:41:07,242[DEBUG] optimize site: [21, 22]\n"
     ]
    },
    {
     "name": "stderr",
     "output_type": "stream",
     "text": [
      "2024-07-11 09:41:07,318[DEBUG] use davidson, HC hops: 76\n"
     ]
    },
    {
     "name": "stderr",
     "output_type": "stream",
     "text": [
      "2024-07-11 09:41:07,320[DEBUG] energy: -10.834489434421698\n"
     ]
    },
    {
     "name": "stderr",
     "output_type": "stream",
     "text": [
      "2024-07-11 09:41:07,323[DEBUG] optimize site: [22, 23]\n"
     ]
    },
    {
     "name": "stderr",
     "output_type": "stream",
     "text": [
      "2024-07-11 09:41:07,413[DEBUG] use davidson, HC hops: 58\n"
     ]
    },
    {
     "name": "stderr",
     "output_type": "stream",
     "text": [
      "2024-07-11 09:41:07,415[DEBUG] energy: -11.415128707126819\n"
     ]
    },
    {
     "name": "stderr",
     "output_type": "stream",
     "text": [
      "2024-07-11 09:41:07,420[DEBUG] optimize site: [23, 24]\n"
     ]
    },
    {
     "name": "stderr",
     "output_type": "stream",
     "text": [
      "2024-07-11 09:41:07,496[DEBUG] use davidson, HC hops: 52\n"
     ]
    },
    {
     "name": "stderr",
     "output_type": "stream",
     "text": [
      "2024-07-11 09:41:07,498[DEBUG] energy: -12.122795879745084\n"
     ]
    },
    {
     "name": "stderr",
     "output_type": "stream",
     "text": [
      "2024-07-11 09:41:07,502[DEBUG] optimize site: [24, 25]\n"
     ]
    },
    {
     "name": "stderr",
     "output_type": "stream",
     "text": [
      "2024-07-11 09:41:07,578[DEBUG] use davidson, HC hops: 71\n"
     ]
    },
    {
     "name": "stderr",
     "output_type": "stream",
     "text": [
      "2024-07-11 09:41:07,580[DEBUG] energy: -12.812234874023513\n"
     ]
    },
    {
     "name": "stderr",
     "output_type": "stream",
     "text": [
      "2024-07-11 09:41:07,584[DEBUG] optimize site: [25, 26]\n"
     ]
    },
    {
     "name": "stderr",
     "output_type": "stream",
     "text": [
      "2024-07-11 09:41:07,668[DEBUG] use davidson, HC hops: 58\n"
     ]
    },
    {
     "name": "stderr",
     "output_type": "stream",
     "text": [
      "2024-07-11 09:41:07,669[DEBUG] energy: -13.774582804126704\n"
     ]
    },
    {
     "name": "stderr",
     "output_type": "stream",
     "text": [
      "2024-07-11 09:41:07,673[DEBUG] optimize site: [26, 27]\n"
     ]
    },
    {
     "name": "stderr",
     "output_type": "stream",
     "text": [
      "2024-07-11 09:41:07,729[DEBUG] use davidson, HC hops: 47\n"
     ]
    },
    {
     "name": "stderr",
     "output_type": "stream",
     "text": [
      "2024-07-11 09:41:07,731[DEBUG] energy: -13.99683265581313\n"
     ]
    },
    {
     "name": "stderr",
     "output_type": "stream",
     "text": [
      "2024-07-11 09:41:07,734[DEBUG] optimize site: [27, 28]\n"
     ]
    },
    {
     "name": "stderr",
     "output_type": "stream",
     "text": [
      "2024-07-11 09:41:07,736[DEBUG] use direct eigensolver\n"
     ]
    },
    {
     "name": "stderr",
     "output_type": "stream",
     "text": [
      "2024-07-11 09:41:07,973[DEBUG] energy: -13.996832655534087\n"
     ]
    },
    {
     "name": "stderr",
     "output_type": "stream",
     "text": [
      "2024-07-11 09:41:07,976[DEBUG] optimize site: [28, 29]\n"
     ]
    },
    {
     "name": "stderr",
     "output_type": "stream",
     "text": [
      "2024-07-11 09:41:07,979[DEBUG] use direct eigensolver\n"
     ]
    },
    {
     "name": "stderr",
     "output_type": "stream",
     "text": [
      "2024-07-11 09:41:08,025[DEBUG] energy: -13.996832655534092\n"
     ]
    },
    {
     "name": "stderr",
     "output_type": "stream",
     "text": [
      "2024-07-11 09:41:08,028[DEBUG] optimize site: [29, 30]\n"
     ]
    },
    {
     "name": "stderr",
     "output_type": "stream",
     "text": [
      "2024-07-11 09:41:08,030[DEBUG] use direct eigensolver\n"
     ]
    },
    {
     "name": "stderr",
     "output_type": "stream",
     "text": [
      "2024-07-11 09:41:08,036[DEBUG] energy: -13.996832655534098\n"
     ]
    },
    {
     "name": "stderr",
     "output_type": "stream",
     "text": [
      "2024-07-11 09:41:08,039[DEBUG] optimize site: [30, 31]\n"
     ]
    },
    {
     "name": "stderr",
     "output_type": "stream",
     "text": [
      "2024-07-11 09:41:08,041[DEBUG] use direct eigensolver\n"
     ]
    },
    {
     "name": "stderr",
     "output_type": "stream",
     "text": [
      "2024-07-11 09:41:08,044[DEBUG] energy: -13.9968326555341\n"
     ]
    },
    {
     "name": "stderr",
     "output_type": "stream",
     "text": [
      "2024-07-11 09:41:08,046[DEBUG] 1 sweeps are finished, lowest energy = -13.99683265581313\n"
     ]
    },
    {
     "name": "stderr",
     "output_type": "stream",
     "text": [
      "2024-07-11 09:41:08,048[DEBUG] isweep: 1\n"
     ]
    },
    {
     "name": "stderr",
     "output_type": "stream",
     "text": [
      "2024-07-11 09:41:08,050[DEBUG] compress config in current loop: 30, percent: 0\n"
     ]
    },
    {
     "name": "stderr",
     "output_type": "stream",
     "text": [
      "2024-07-11 09:41:08,052[DEBUG] mps current size: 343.7KiB, Matrix product bond dim:[1, 2, 4, 8, 16, 30, 30, 30, 30, 30, 30, 30, 30, 30, 30, 30, 30, 30, 30, 30, 30, 30, 30, 30, 30, 30, 30, 30, 30, 16, 8, 4, 1]\n"
     ]
    },
    {
     "name": "stderr",
     "output_type": "stream",
     "text": [
      "2024-07-11 09:41:08,054[DEBUG] optimize site: [30, 31]\n"
     ]
    },
    {
     "name": "stderr",
     "output_type": "stream",
     "text": [
      "2024-07-11 09:41:08,056[DEBUG] use direct eigensolver\n"
     ]
    },
    {
     "name": "stderr",
     "output_type": "stream",
     "text": [
      "2024-07-11 09:41:08,058[DEBUG] energy: -13.9968326555341\n"
     ]
    },
    {
     "name": "stderr",
     "output_type": "stream",
     "text": [
      "2024-07-11 09:41:08,061[DEBUG] optimize site: [29, 30]\n"
     ]
    },
    {
     "name": "stderr",
     "output_type": "stream",
     "text": [
      "2024-07-11 09:41:08,063[DEBUG] use direct eigensolver\n"
     ]
    },
    {
     "name": "stderr",
     "output_type": "stream",
     "text": [
      "2024-07-11 09:41:08,069[DEBUG] energy: -13.996832655534101\n"
     ]
    },
    {
     "name": "stderr",
     "output_type": "stream",
     "text": [
      "2024-07-11 09:41:08,071[DEBUG] optimize site: [28, 29]\n"
     ]
    },
    {
     "name": "stderr",
     "output_type": "stream",
     "text": [
      "2024-07-11 09:41:08,074[DEBUG] use direct eigensolver\n"
     ]
    },
    {
     "name": "stderr",
     "output_type": "stream",
     "text": [
      "2024-07-11 09:41:08,117[DEBUG] energy: -13.996832655534087\n"
     ]
    },
    {
     "name": "stderr",
     "output_type": "stream",
     "text": [
      "2024-07-11 09:41:08,120[DEBUG] optimize site: [27, 28]\n"
     ]
    },
    {
     "name": "stderr",
     "output_type": "stream",
     "text": [
      "2024-07-11 09:41:08,122[DEBUG] use direct eigensolver\n"
     ]
    },
    {
     "name": "stderr",
     "output_type": "stream",
     "text": [
      "2024-07-11 09:41:08,365[DEBUG] energy: -13.99683265553409\n"
     ]
    },
    {
     "name": "stderr",
     "output_type": "stream",
     "text": [
      "2024-07-11 09:41:08,369[DEBUG] optimize site: [26, 27]\n"
     ]
    },
    {
     "name": "stderr",
     "output_type": "stream",
     "text": [
      "2024-07-11 09:41:08,383[DEBUG] use davidson, HC hops: 4\n"
     ]
    },
    {
     "name": "stderr",
     "output_type": "stream",
     "text": [
      "2024-07-11 09:41:08,386[DEBUG] energy: -13.996832655813693\n"
     ]
    },
    {
     "name": "stderr",
     "output_type": "stream",
     "text": [
      "2024-07-11 09:41:08,390[DEBUG] optimize site: [25, 26]\n"
     ]
    },
    {
     "name": "stderr",
     "output_type": "stream",
     "text": [
      "2024-07-11 09:41:08,430[DEBUG] use davidson, HC hops: 22\n"
     ]
    },
    {
     "name": "stderr",
     "output_type": "stream",
     "text": [
      "2024-07-11 09:41:08,432[DEBUG] energy: -13.996844945038413\n"
     ]
    },
    {
     "name": "stderr",
     "output_type": "stream",
     "text": [
      "2024-07-11 09:41:08,436[DEBUG] optimize site: [24, 25]\n"
     ]
    },
    {
     "name": "stderr",
     "output_type": "stream",
     "text": [
      "2024-07-11 09:41:08,464[DEBUG] use davidson, HC hops: 28\n"
     ]
    },
    {
     "name": "stderr",
     "output_type": "stream",
     "text": [
      "2024-07-11 09:41:08,465[DEBUG] energy: -13.997067101658793\n"
     ]
    },
    {
     "name": "stderr",
     "output_type": "stream",
     "text": [
      "2024-07-11 09:41:08,469[DEBUG] optimize site: [23, 24]\n"
     ]
    },
    {
     "name": "stderr",
     "output_type": "stream",
     "text": [
      "2024-07-11 09:41:08,501[DEBUG] use davidson, HC hops: 25\n"
     ]
    },
    {
     "name": "stderr",
     "output_type": "stream",
     "text": [
      "2024-07-11 09:41:08,503[DEBUG] energy: -13.997101684717563\n"
     ]
    },
    {
     "name": "stderr",
     "output_type": "stream",
     "text": [
      "2024-07-11 09:41:08,508[DEBUG] optimize site: [22, 23]\n"
     ]
    },
    {
     "name": "stderr",
     "output_type": "stream",
     "text": [
      "2024-07-11 09:41:08,551[DEBUG] use davidson, HC hops: 23\n"
     ]
    },
    {
     "name": "stderr",
     "output_type": "stream",
     "text": [
      "2024-07-11 09:41:08,551[DEBUG] energy: -13.997106608213759\n"
     ]
    },
    {
     "name": "stderr",
     "output_type": "stream",
     "text": [
      "2024-07-11 09:41:08,555[DEBUG] optimize site: [21, 22]\n"
     ]
    },
    {
     "name": "stderr",
     "output_type": "stream",
     "text": [
      "2024-07-11 09:41:08,599[DEBUG] use davidson, HC hops: 23\n"
     ]
    },
    {
     "name": "stderr",
     "output_type": "stream",
     "text": [
      "2024-07-11 09:41:08,599[DEBUG] energy: -13.997113698271205\n"
     ]
    },
    {
     "name": "stderr",
     "output_type": "stream",
     "text": [
      "2024-07-11 09:41:08,603[DEBUG] optimize site: [20, 21]\n"
     ]
    },
    {
     "name": "stderr",
     "output_type": "stream",
     "text": [
      "2024-07-11 09:41:08,651[DEBUG] use davidson, HC hops: 26\n"
     ]
    },
    {
     "name": "stderr",
     "output_type": "stream",
     "text": [
      "2024-07-11 09:41:08,651[DEBUG] energy: -13.997162638323628\n"
     ]
    },
    {
     "name": "stderr",
     "output_type": "stream",
     "text": [
      "2024-07-11 09:41:08,655[DEBUG] optimize site: [19, 20]\n"
     ]
    },
    {
     "name": "stderr",
     "output_type": "stream",
     "text": [
      "2024-07-11 09:41:08,700[DEBUG] use davidson, HC hops: 23\n"
     ]
    },
    {
     "name": "stderr",
     "output_type": "stream",
     "text": [
      "2024-07-11 09:41:08,701[DEBUG] energy: -13.997170144965605\n"
     ]
    },
    {
     "name": "stderr",
     "output_type": "stream",
     "text": [
      "2024-07-11 09:41:08,705[DEBUG] optimize site: [18, 19]\n"
     ]
    },
    {
     "name": "stderr",
     "output_type": "stream",
     "text": [
      "2024-07-11 09:41:08,756[DEBUG] use davidson, HC hops: 26\n"
     ]
    },
    {
     "name": "stderr",
     "output_type": "stream",
     "text": [
      "2024-07-11 09:41:08,757[DEBUG] energy: -13.997199975427474\n"
     ]
    },
    {
     "name": "stderr",
     "output_type": "stream",
     "text": [
      "2024-07-11 09:41:08,761[DEBUG] optimize site: [17, 18]\n"
     ]
    },
    {
     "name": "stderr",
     "output_type": "stream",
     "text": [
      "2024-07-11 09:41:08,803[DEBUG] use davidson, HC hops: 22\n"
     ]
    },
    {
     "name": "stderr",
     "output_type": "stream",
     "text": [
      "2024-07-11 09:41:08,804[DEBUG] energy: -13.997204392621656\n"
     ]
    },
    {
     "name": "stderr",
     "output_type": "stream",
     "text": [
      "2024-07-11 09:41:08,807[DEBUG] optimize site: [16, 17]\n"
     ]
    },
    {
     "name": "stderr",
     "output_type": "stream",
     "text": [
      "2024-07-11 09:41:08,853[DEBUG] use davidson, HC hops: 25\n"
     ]
    },
    {
     "name": "stderr",
     "output_type": "stream",
     "text": [
      "2024-07-11 09:41:08,856[DEBUG] energy: -13.997225037523854\n"
     ]
    },
    {
     "name": "stderr",
     "output_type": "stream",
     "text": [
      "2024-07-11 09:41:08,860[DEBUG] optimize site: [15, 16]\n"
     ]
    },
    {
     "name": "stderr",
     "output_type": "stream",
     "text": [
      "2024-07-11 09:41:08,909[DEBUG] use davidson, HC hops: 26\n"
     ]
    },
    {
     "name": "stderr",
     "output_type": "stream",
     "text": [
      "2024-07-11 09:41:08,911[DEBUG] energy: -13.997284918121228\n"
     ]
    },
    {
     "name": "stderr",
     "output_type": "stream",
     "text": [
      "2024-07-11 09:41:08,916[DEBUG] optimize site: [14, 15]\n"
     ]
    },
    {
     "name": "stderr",
     "output_type": "stream",
     "text": [
      "2024-07-11 09:41:08,958[DEBUG] use davidson, HC hops: 22\n"
     ]
    },
    {
     "name": "stderr",
     "output_type": "stream",
     "text": [
      "2024-07-11 09:41:08,960[DEBUG] energy: -13.997290859971297\n"
     ]
    },
    {
     "name": "stderr",
     "output_type": "stream",
     "text": [
      "2024-07-11 09:41:08,965[DEBUG] optimize site: [13, 14]\n"
     ]
    },
    {
     "name": "stderr",
     "output_type": "stream",
     "text": [
      "2024-07-11 09:41:09,002[DEBUG] use davidson, HC hops: 20\n"
     ]
    },
    {
     "name": "stderr",
     "output_type": "stream",
     "text": [
      "2024-07-11 09:41:09,003[DEBUG] energy: -13.99729325765383\n"
     ]
    },
    {
     "name": "stderr",
     "output_type": "stream",
     "text": [
      "2024-07-11 09:41:09,007[DEBUG] optimize site: [12, 13]\n"
     ]
    },
    {
     "name": "stderr",
     "output_type": "stream",
     "text": [
      "2024-07-11 09:41:09,049[DEBUG] use davidson, HC hops: 23\n"
     ]
    },
    {
     "name": "stderr",
     "output_type": "stream",
     "text": [
      "2024-07-11 09:41:09,051[DEBUG] energy: -13.9973062250867\n"
     ]
    },
    {
     "name": "stderr",
     "output_type": "stream",
     "text": [
      "2024-07-11 09:41:09,056[DEBUG] optimize site: [11, 12]\n"
     ]
    },
    {
     "name": "stderr",
     "output_type": "stream",
     "text": [
      "2024-07-11 09:41:09,095[DEBUG] use davidson, HC hops: 21\n"
     ]
    },
    {
     "name": "stderr",
     "output_type": "stream",
     "text": [
      "2024-07-11 09:41:09,098[DEBUG] energy: -13.99731114559566\n"
     ]
    },
    {
     "name": "stderr",
     "output_type": "stream",
     "text": [
      "2024-07-11 09:41:09,102[DEBUG] optimize site: [10, 11]\n"
     ]
    },
    {
     "name": "stderr",
     "output_type": "stream",
     "text": [
      "2024-07-11 09:41:09,141[DEBUG] use davidson, HC hops: 20\n"
     ]
    },
    {
     "name": "stderr",
     "output_type": "stream",
     "text": [
      "2024-07-11 09:41:09,143[DEBUG] energy: -13.997313132707541\n"
     ]
    },
    {
     "name": "stderr",
     "output_type": "stream",
     "text": [
      "2024-07-11 09:41:09,148[DEBUG] optimize site: [9, 10]\n"
     ]
    },
    {
     "name": "stderr",
     "output_type": "stream",
     "text": [
      "2024-07-11 09:41:09,180[DEBUG] use davidson, HC hops: 17\n"
     ]
    },
    {
     "name": "stderr",
     "output_type": "stream",
     "text": [
      "2024-07-11 09:41:09,181[DEBUG] energy: -13.997314428626431\n"
     ]
    },
    {
     "name": "stderr",
     "output_type": "stream",
     "text": [
      "2024-07-11 09:41:09,185[DEBUG] optimize site: [8, 9]\n"
     ]
    },
    {
     "name": "stderr",
     "output_type": "stream",
     "text": [
      "2024-07-11 09:41:09,207[DEBUG] use davidson, HC hops: 11\n"
     ]
    },
    {
     "name": "stderr",
     "output_type": "stream",
     "text": [
      "2024-07-11 09:41:09,209[DEBUG] energy: -13.997314715468757\n"
     ]
    },
    {
     "name": "stderr",
     "output_type": "stream",
     "text": [
      "2024-07-11 09:41:09,214[DEBUG] optimize site: [7, 8]\n"
     ]
    },
    {
     "name": "stderr",
     "output_type": "stream",
     "text": [
      "2024-07-11 09:41:09,235[DEBUG] use davidson, HC hops: 7\n"
     ]
    },
    {
     "name": "stderr",
     "output_type": "stream",
     "text": [
      "2024-07-11 09:41:09,238[DEBUG] energy: -13.997314712669837\n"
     ]
    },
    {
     "name": "stderr",
     "output_type": "stream",
     "text": [
      "2024-07-11 09:41:09,243[DEBUG] optimize site: [6, 7]\n"
     ]
    },
    {
     "name": "stderr",
     "output_type": "stream",
     "text": [
      "2024-07-11 09:41:09,268[DEBUG] use davidson, HC hops: 12\n"
     ]
    },
    {
     "name": "stderr",
     "output_type": "stream",
     "text": [
      "2024-07-11 09:41:09,270[DEBUG] energy: -13.997314999750063\n"
     ]
    },
    {
     "name": "stderr",
     "output_type": "stream",
     "text": [
      "2024-07-11 09:41:09,275[DEBUG] optimize site: [5, 6]\n"
     ]
    },
    {
     "name": "stderr",
     "output_type": "stream",
     "text": [
      "2024-07-11 09:41:09,291[DEBUG] use davidson, HC hops: 7\n"
     ]
    },
    {
     "name": "stderr",
     "output_type": "stream",
     "text": [
      "2024-07-11 09:41:09,294[DEBUG] energy: -13.997315003811504\n"
     ]
    },
    {
     "name": "stderr",
     "output_type": "stream",
     "text": [
      "2024-07-11 09:41:09,297[DEBUG] optimize site: [4, 5]\n"
     ]
    },
    {
     "name": "stderr",
     "output_type": "stream",
     "text": [
      "2024-07-11 09:41:09,304[DEBUG] use davidson, HC hops: 5\n"
     ]
    },
    {
     "name": "stderr",
     "output_type": "stream",
     "text": [
      "2024-07-11 09:41:09,306[DEBUG] energy: -13.997315004767827\n"
     ]
    },
    {
     "name": "stderr",
     "output_type": "stream",
     "text": [
      "2024-07-11 09:41:09,309[DEBUG] optimize site: [3, 4]\n"
     ]
    },
    {
     "name": "stderr",
     "output_type": "stream",
     "text": [
      "2024-07-11 09:41:09,311[DEBUG] use direct eigensolver\n"
     ]
    },
    {
     "name": "stderr",
     "output_type": "stream",
     "text": [
      "2024-07-11 09:41:09,570[DEBUG] energy: -13.99731500446712\n"
     ]
    },
    {
     "name": "stderr",
     "output_type": "stream",
     "text": [
      "2024-07-11 09:41:09,572[DEBUG] optimize site: [2, 3]\n"
     ]
    },
    {
     "name": "stderr",
     "output_type": "stream",
     "text": [
      "2024-07-11 09:41:09,574[DEBUG] use direct eigensolver\n"
     ]
    },
    {
     "name": "stderr",
     "output_type": "stream",
     "text": [
      "2024-07-11 09:41:09,621[DEBUG] energy: -13.9973150044671\n"
     ]
    },
    {
     "name": "stderr",
     "output_type": "stream",
     "text": [
      "2024-07-11 09:41:09,624[DEBUG] optimize site: [1, 2]\n"
     ]
    },
    {
     "name": "stderr",
     "output_type": "stream",
     "text": [
      "2024-07-11 09:41:09,626[DEBUG] use direct eigensolver\n"
     ]
    },
    {
     "name": "stderr",
     "output_type": "stream",
     "text": [
      "2024-07-11 09:41:09,632[DEBUG] energy: -13.997315004467096\n"
     ]
    },
    {
     "name": "stderr",
     "output_type": "stream",
     "text": [
      "2024-07-11 09:41:09,635[DEBUG] optimize site: [0, 1]\n"
     ]
    },
    {
     "name": "stderr",
     "output_type": "stream",
     "text": [
      "2024-07-11 09:41:09,637[DEBUG] use direct eigensolver\n"
     ]
    },
    {
     "name": "stderr",
     "output_type": "stream",
     "text": [
      "2024-07-11 09:41:09,640[DEBUG] energy: -13.997315004467108\n"
     ]
    },
    {
     "name": "stderr",
     "output_type": "stream",
     "text": [
      "2024-07-11 09:41:09,642[DEBUG] 2 sweeps are finished, lowest energy = -13.997315004767827\n"
     ]
    },
    {
     "name": "stderr",
     "output_type": "stream",
     "text": [
      "2024-07-11 09:41:09,644[DEBUG] isweep: 2\n"
     ]
    },
    {
     "name": "stderr",
     "output_type": "stream",
     "text": [
      "2024-07-11 09:41:09,646[DEBUG] compress config in current loop: 30, percent: 0\n"
     ]
    },
    {
     "name": "stderr",
     "output_type": "stream",
     "text": [
      "2024-07-11 09:41:09,648[DEBUG] mps current size: 343.7KiB, Matrix product bond dim:[1, 4, 8, 16, 30, 30, 30, 30, 30, 30, 30, 30, 30, 30, 30, 30, 30, 30, 30, 30, 30, 30, 30, 30, 30, 30, 30, 30, 16, 8, 4, 2, 1]\n"
     ]
    },
    {
     "name": "stderr",
     "output_type": "stream",
     "text": [
      "2024-07-11 09:41:09,650[DEBUG] optimize site: [0, 1]\n"
     ]
    },
    {
     "name": "stderr",
     "output_type": "stream",
     "text": [
      "2024-07-11 09:41:09,652[DEBUG] use direct eigensolver\n"
     ]
    },
    {
     "name": "stderr",
     "output_type": "stream",
     "text": [
      "2024-07-11 09:41:09,655[DEBUG] energy: -13.997315004467108\n"
     ]
    },
    {
     "name": "stderr",
     "output_type": "stream",
     "text": [
      "2024-07-11 09:41:09,657[DEBUG] optimize site: [1, 2]\n"
     ]
    },
    {
     "name": "stderr",
     "output_type": "stream",
     "text": [
      "2024-07-11 09:41:09,659[DEBUG] use direct eigensolver\n"
     ]
    },
    {
     "name": "stderr",
     "output_type": "stream",
     "text": [
      "2024-07-11 09:41:09,665[DEBUG] energy: -13.99731500446711\n"
     ]
    },
    {
     "name": "stderr",
     "output_type": "stream",
     "text": [
      "2024-07-11 09:41:09,667[DEBUG] optimize site: [2, 3]\n"
     ]
    },
    {
     "name": "stderr",
     "output_type": "stream",
     "text": [
      "2024-07-11 09:41:09,670[DEBUG] use direct eigensolver\n"
     ]
    },
    {
     "name": "stderr",
     "output_type": "stream",
     "text": [
      "2024-07-11 09:41:09,713[DEBUG] energy: -13.997315004467099\n"
     ]
    },
    {
     "name": "stderr",
     "output_type": "stream",
     "text": [
      "2024-07-11 09:41:09,716[DEBUG] optimize site: [3, 4]\n"
     ]
    },
    {
     "name": "stderr",
     "output_type": "stream",
     "text": [
      "2024-07-11 09:41:09,718[DEBUG] use direct eigensolver\n"
     ]
    },
    {
     "name": "stderr",
     "output_type": "stream",
     "text": [
      "2024-07-11 09:41:09,964[DEBUG] energy: -13.997315004467128\n"
     ]
    },
    {
     "name": "stderr",
     "output_type": "stream",
     "text": [
      "2024-07-11 09:41:09,968[DEBUG] optimize site: [4, 5]\n"
     ]
    },
    {
     "name": "stderr",
     "output_type": "stream",
     "text": [
      "2024-07-11 09:41:09,974[DEBUG] use davidson, HC hops: 4\n"
     ]
    },
    {
     "name": "stderr",
     "output_type": "stream",
     "text": [
      "2024-07-11 09:41:09,976[DEBUG] energy: -13.997315004767891\n"
     ]
    },
    {
     "name": "stderr",
     "output_type": "stream",
     "text": [
      "2024-07-11 09:41:09,980[DEBUG] optimize site: [5, 6]\n"
     ]
    },
    {
     "name": "stderr",
     "output_type": "stream",
     "text": [
      "2024-07-11 09:41:09,987[DEBUG] use davidson, HC hops: 4\n"
     ]
    },
    {
     "name": "stderr",
     "output_type": "stream",
     "text": [
      "2024-07-11 09:41:09,989[DEBUG] energy: -13.997315004667788\n"
     ]
    },
    {
     "name": "stderr",
     "output_type": "stream",
     "text": [
      "2024-07-11 09:41:09,993[DEBUG] optimize site: [6, 7]\n"
     ]
    },
    {
     "name": "stderr",
     "output_type": "stream",
     "text": [
      "2024-07-11 09:41:10,002[DEBUG] use davidson, HC hops: 6\n"
     ]
    },
    {
     "name": "stderr",
     "output_type": "stream",
     "text": [
      "2024-07-11 09:41:10,003[DEBUG] energy: -13.997315012470679\n"
     ]
    },
    {
     "name": "stderr",
     "output_type": "stream",
     "text": [
      "2024-07-11 09:41:10,007[DEBUG] optimize site: [7, 8]\n"
     ]
    },
    {
     "name": "stderr",
     "output_type": "stream",
     "text": [
      "2024-07-11 09:41:10,014[DEBUG] use davidson, HC hops: 5\n"
     ]
    },
    {
     "name": "stderr",
     "output_type": "stream",
     "text": [
      "2024-07-11 09:41:10,016[DEBUG] energy: -13.997315006066694\n"
     ]
    },
    {
     "name": "stderr",
     "output_type": "stream",
     "text": [
      "2024-07-11 09:41:10,020[DEBUG] optimize site: [8, 9]\n"
     ]
    },
    {
     "name": "stderr",
     "output_type": "stream",
     "text": [
      "2024-07-11 09:41:10,029[DEBUG] use davidson, HC hops: 7\n"
     ]
    },
    {
     "name": "stderr",
     "output_type": "stream",
     "text": [
      "2024-07-11 09:41:10,031[DEBUG] energy: -13.997315033374582\n"
     ]
    },
    {
     "name": "stderr",
     "output_type": "stream",
     "text": [
      "2024-07-11 09:41:10,034[DEBUG] optimize site: [9, 10]\n"
     ]
    },
    {
     "name": "stderr",
     "output_type": "stream",
     "text": [
      "2024-07-11 09:41:10,043[DEBUG] use davidson, HC hops: 6\n"
     ]
    },
    {
     "name": "stderr",
     "output_type": "stream",
     "text": [
      "2024-07-11 09:41:10,044[DEBUG] energy: -13.997315010121994\n"
     ]
    },
    {
     "name": "stderr",
     "output_type": "stream",
     "text": [
      "2024-07-11 09:41:10,048[DEBUG] optimize site: [10, 11]\n"
     ]
    },
    {
     "name": "stderr",
     "output_type": "stream",
     "text": [
      "2024-07-11 09:41:10,065[DEBUG] use davidson, HC hops: 8\n"
     ]
    },
    {
     "name": "stderr",
     "output_type": "stream",
     "text": [
      "2024-07-11 09:41:10,067[DEBUG] energy: -13.99731505577691\n"
     ]
    },
    {
     "name": "stderr",
     "output_type": "stream",
     "text": [
      "2024-07-11 09:41:10,072[DEBUG] optimize site: [11, 12]\n"
     ]
    },
    {
     "name": "stderr",
     "output_type": "stream",
     "text": [
      "2024-07-11 09:41:10,088[DEBUG] use davidson, HC hops: 7\n"
     ]
    },
    {
     "name": "stderr",
     "output_type": "stream",
     "text": [
      "2024-07-11 09:41:10,090[DEBUG] energy: -13.99731501589051\n"
     ]
    },
    {
     "name": "stderr",
     "output_type": "stream",
     "text": [
      "2024-07-11 09:41:10,094[DEBUG] optimize site: [12, 13]\n"
     ]
    },
    {
     "name": "stderr",
     "output_type": "stream",
     "text": [
      "2024-07-11 09:41:10,112[DEBUG] use davidson, HC hops: 8\n"
     ]
    },
    {
     "name": "stderr",
     "output_type": "stream",
     "text": [
      "2024-07-11 09:41:10,114[DEBUG] energy: -13.997315076759431\n"
     ]
    },
    {
     "name": "stderr",
     "output_type": "stream",
     "text": [
      "2024-07-11 09:41:10,119[DEBUG] optimize site: [13, 14]\n"
     ]
    },
    {
     "name": "stderr",
     "output_type": "stream",
     "text": [
      "2024-07-11 09:41:10,135[DEBUG] use davidson, HC hops: 7\n"
     ]
    },
    {
     "name": "stderr",
     "output_type": "stream",
     "text": [
      "2024-07-11 09:41:10,135[DEBUG] energy: -13.997315021063784\n"
     ]
    },
    {
     "name": "stderr",
     "output_type": "stream",
     "text": [
      "2024-07-11 09:41:10,139[DEBUG] optimize site: [14, 15]\n"
     ]
    },
    {
     "name": "stderr",
     "output_type": "stream",
     "text": [
      "2024-07-11 09:41:10,156[DEBUG] use davidson, HC hops: 8\n"
     ]
    },
    {
     "name": "stderr",
     "output_type": "stream",
     "text": [
      "2024-07-11 09:41:10,156[DEBUG] energy: -13.997315089163513\n"
     ]
    },
    {
     "name": "stderr",
     "output_type": "stream",
     "text": [
      "2024-07-11 09:41:10,160[DEBUG] optimize site: [15, 16]\n"
     ]
    },
    {
     "name": "stderr",
     "output_type": "stream",
     "text": [
      "2024-07-11 09:41:10,177[DEBUG] use davidson, HC hops: 8\n"
     ]
    },
    {
     "name": "stderr",
     "output_type": "stream",
     "text": [
      "2024-07-11 09:41:10,178[DEBUG] energy: -13.99731502323776\n"
     ]
    },
    {
     "name": "stderr",
     "output_type": "stream",
     "text": [
      "2024-07-11 09:41:10,182[DEBUG] optimize site: [16, 17]\n"
     ]
    },
    {
     "name": "stderr",
     "output_type": "stream",
     "text": [
      "2024-07-11 09:41:10,201[DEBUG] use davidson, HC hops: 9\n"
     ]
    },
    {
     "name": "stderr",
     "output_type": "stream",
     "text": [
      "2024-07-11 09:41:10,202[DEBUG] energy: -13.997315090211686\n"
     ]
    },
    {
     "name": "stderr",
     "output_type": "stream",
     "text": [
      "2024-07-11 09:41:10,205[DEBUG] optimize site: [17, 18]\n"
     ]
    },
    {
     "name": "stderr",
     "output_type": "stream",
     "text": [
      "2024-07-11 09:41:10,226[DEBUG] use davidson, HC hops: 8\n"
     ]
    },
    {
     "name": "stderr",
     "output_type": "stream",
     "text": [
      "2024-07-11 09:41:10,226[DEBUG] energy: -13.997315022014273\n"
     ]
    },
    {
     "name": "stderr",
     "output_type": "stream",
     "text": [
      "2024-07-11 09:41:10,230[DEBUG] optimize site: [18, 19]\n"
     ]
    },
    {
     "name": "stderr",
     "output_type": "stream",
     "text": [
      "2024-07-11 09:41:10,248[DEBUG] use davidson, HC hops: 8\n"
     ]
    },
    {
     "name": "stderr",
     "output_type": "stream",
     "text": [
      "2024-07-11 09:41:10,250[DEBUG] energy: -13.997315079212578\n"
     ]
    },
    {
     "name": "stderr",
     "output_type": "stream",
     "text": [
      "2024-07-11 09:41:10,254[DEBUG] optimize site: [19, 20]\n"
     ]
    },
    {
     "name": "stderr",
     "output_type": "stream",
     "text": [
      "2024-07-11 09:41:10,271[DEBUG] use davidson, HC hops: 7\n"
     ]
    },
    {
     "name": "stderr",
     "output_type": "stream",
     "text": [
      "2024-07-11 09:41:10,273[DEBUG] energy: -13.997315018389678\n"
     ]
    },
    {
     "name": "stderr",
     "output_type": "stream",
     "text": [
      "2024-07-11 09:41:10,278[DEBUG] optimize site: [20, 21]\n"
     ]
    },
    {
     "name": "stderr",
     "output_type": "stream",
     "text": [
      "2024-07-11 09:41:10,295[DEBUG] use davidson, HC hops: 8\n"
     ]
    },
    {
     "name": "stderr",
     "output_type": "stream",
     "text": [
      "2024-07-11 09:41:10,297[DEBUG] energy: -13.997315060471582\n"
     ]
    },
    {
     "name": "stderr",
     "output_type": "stream",
     "text": [
      "2024-07-11 09:41:10,302[DEBUG] optimize site: [21, 22]\n"
     ]
    },
    {
     "name": "stderr",
     "output_type": "stream",
     "text": [
      "2024-07-11 09:41:10,311[DEBUG] use davidson, HC hops: 6\n"
     ]
    },
    {
     "name": "stderr",
     "output_type": "stream",
     "text": [
      "2024-07-11 09:41:10,313[DEBUG] energy: -13.997315014222991\n"
     ]
    },
    {
     "name": "stderr",
     "output_type": "stream",
     "text": [
      "2024-07-11 09:41:10,317[DEBUG] optimize site: [22, 23]\n"
     ]
    },
    {
     "name": "stderr",
     "output_type": "stream",
     "text": [
      "2024-07-11 09:41:10,327[DEBUG] use davidson, HC hops: 8\n"
     ]
    },
    {
     "name": "stderr",
     "output_type": "stream",
     "text": [
      "2024-07-11 09:41:10,329[DEBUG] energy: -13.997315036380762\n"
     ]
    },
    {
     "name": "stderr",
     "output_type": "stream",
     "text": [
      "2024-07-11 09:41:10,333[DEBUG] optimize site: [23, 24]\n"
     ]
    },
    {
     "name": "stderr",
     "output_type": "stream",
     "text": [
      "2024-07-11 09:41:10,342[DEBUG] use davidson, HC hops: 6\n"
     ]
    },
    {
     "name": "stderr",
     "output_type": "stream",
     "text": [
      "2024-07-11 09:41:10,343[DEBUG] energy: -13.997315009063323\n"
     ]
    },
    {
     "name": "stderr",
     "output_type": "stream",
     "text": [
      "2024-07-11 09:41:10,347[DEBUG] optimize site: [24, 25]\n"
     ]
    },
    {
     "name": "stderr",
     "output_type": "stream",
     "text": [
      "2024-07-11 09:41:10,356[DEBUG] use davidson, HC hops: 6\n"
     ]
    },
    {
     "name": "stderr",
     "output_type": "stream",
     "text": [
      "2024-07-11 09:41:10,357[DEBUG] energy: -13.997315015431786\n"
     ]
    },
    {
     "name": "stderr",
     "output_type": "stream",
     "text": [
      "2024-07-11 09:41:10,361[DEBUG] optimize site: [25, 26]\n"
     ]
    },
    {
     "name": "stderr",
     "output_type": "stream",
     "text": [
      "2024-07-11 09:41:10,369[DEBUG] use davidson, HC hops: 5\n"
     ]
    },
    {
     "name": "stderr",
     "output_type": "stream",
     "text": [
      "2024-07-11 09:41:10,371[DEBUG] energy: -13.997315007630487\n"
     ]
    },
    {
     "name": "stderr",
     "output_type": "stream",
     "text": [
      "2024-07-11 09:41:10,374[DEBUG] optimize site: [26, 27]\n"
     ]
    },
    {
     "name": "stderr",
     "output_type": "stream",
     "text": [
      "2024-07-11 09:41:10,381[DEBUG] use davidson, HC hops: 4\n"
     ]
    },
    {
     "name": "stderr",
     "output_type": "stream",
     "text": [
      "2024-07-11 09:41:10,383[DEBUG] energy: -13.997315007727444\n"
     ]
    },
    {
     "name": "stderr",
     "output_type": "stream",
     "text": [
      "2024-07-11 09:41:10,386[DEBUG] optimize site: [27, 28]\n"
     ]
    },
    {
     "name": "stderr",
     "output_type": "stream",
     "text": [
      "2024-07-11 09:41:10,388[DEBUG] use direct eigensolver\n"
     ]
    },
    {
     "name": "stderr",
     "output_type": "stream",
     "text": [
      "2024-07-11 09:41:10,643[DEBUG] energy: -13.997315007427401\n"
     ]
    },
    {
     "name": "stderr",
     "output_type": "stream",
     "text": [
      "2024-07-11 09:41:10,646[DEBUG] optimize site: [28, 29]\n"
     ]
    },
    {
     "name": "stderr",
     "output_type": "stream",
     "text": [
      "2024-07-11 09:41:10,649[DEBUG] use direct eigensolver\n"
     ]
    },
    {
     "name": "stderr",
     "output_type": "stream",
     "text": [
      "2024-07-11 09:41:10,705[DEBUG] energy: -13.997315007427407\n"
     ]
    },
    {
     "name": "stderr",
     "output_type": "stream",
     "text": [
      "2024-07-11 09:41:10,708[DEBUG] optimize site: [29, 30]\n"
     ]
    },
    {
     "name": "stderr",
     "output_type": "stream",
     "text": [
      "2024-07-11 09:41:10,710[DEBUG] use direct eigensolver\n"
     ]
    },
    {
     "name": "stderr",
     "output_type": "stream",
     "text": [
      "2024-07-11 09:41:10,716[DEBUG] energy: -13.997315007427419\n"
     ]
    },
    {
     "name": "stderr",
     "output_type": "stream",
     "text": [
      "2024-07-11 09:41:10,719[DEBUG] optimize site: [30, 31]\n"
     ]
    },
    {
     "name": "stderr",
     "output_type": "stream",
     "text": [
      "2024-07-11 09:41:10,721[DEBUG] use direct eigensolver\n"
     ]
    },
    {
     "name": "stderr",
     "output_type": "stream",
     "text": [
      "2024-07-11 09:41:10,724[DEBUG] energy: -13.997315007427416\n"
     ]
    },
    {
     "name": "stderr",
     "output_type": "stream",
     "text": [
      "2024-07-11 09:41:10,727[DEBUG] 3 sweeps are finished, lowest energy = -13.997315090211686\n"
     ]
    },
    {
     "name": "stderr",
     "output_type": "stream",
     "text": [
      "2024-07-11 09:41:10,728[INFO] DMRG has converged!\n"
     ]
    },
    {
     "name": "stderr",
     "output_type": "stream",
     "text": [
      "2024-07-11 09:41:10,769[INFO] mps current size: 329.7KiB, Matrix product bond dim:[1, 2, 4, 8, 16, 30, 30, 30, 30, 30, 30, 30, 30, 30, 30, 30, 30, 30, 30, 30, 30, 30, 30, 30, 30, 30, 30, 30, 16, 8, 4, 2, 1]\n"
     ]
    },
    {
     "name": "stdout",
     "output_type": "stream",
     "text": [
      "gs energy: -13.997315090211686\n"
     ]
    }
   ],
   "source": [
    "# set the sweep paramter\n",
    "M = 30\n",
    "procedure = [[M, 0.2], [M, 0], [M, 0], [M,0], [M,0]]\n",
    "\n",
    "# initialize a random MPS\n",
    "qntot = 0\n",
    "mps = Mps.random(model, qntot, M)\n",
    "\n",
    "mps.optimize_config.procedure = procedure\n",
    "mps.optimize_config.method = \"2site\"\n",
    "\n",
    "# optimize MPS\n",
    "energies, _ = optimize_mps(mps.copy(), mpo)\n",
    "print(\"gs energy:\", min(energies))"
   ]
  },
  {
   "cell_type": "code",
   "execution_count": null,
   "metadata": {},
   "outputs": [],
   "source": []
  }
 ],
 "metadata": {
  "kernelspec": {
   "display_name": "Python 3 (ipykernel)",
   "language": "python",
   "name": "python3"
  },
  "language_info": {
   "codemirror_mode": {
    "name": "ipython",
    "version": 3
   },
   "file_extension": ".py",
   "mimetype": "text/x-python",
   "name": "python",
   "nbconvert_exporter": "python",
   "pygments_lexer": "ipython3",
   "version": "3.8.18"
  }
 },
 "nbformat": 4,
 "nbformat_minor": 4
}
